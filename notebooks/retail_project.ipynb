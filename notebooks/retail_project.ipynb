{
  "nbformat": 4,
  "nbformat_minor": 0,
  "metadata": {
    "colab": {
      "provenance": [],
      "toc_visible": true
    },
    "kernelspec": {
      "name": "python3",
      "display_name": "Python 3"
    },
    "language_info": {
      "name": "python"
    }
  },
  "cells": [
    {
      "cell_type": "code",
      "execution_count": 39,
      "metadata": {
        "colab": {
          "base_uri": "https://localhost:8080/"
        },
        "id": "T-ExXNqpQEs1",
        "outputId": "94275d0a-5807-450b-b536-10bc93588793"
      },
      "outputs": [
        {
          "output_type": "stream",
          "name": "stdout",
          "text": [
            "Shape: (12000, 18)\n",
            "\n",
            "Preview:\n",
            "                order_id  order_date store_id     city region   channel  \\\n",
            "0  ORD20240426-S04-09063  2024-04-26      S04   Munich   West  In-Store   \n",
            "1  ORD20241019-S04-07451  2024-10-19      S04  Hamburg  South  In-Store   \n",
            "2  ORD20241220-S04-08370  2024-12-20      S04   Munich   East  In-Store   \n",
            "\n",
            "  customer_age_group loyalty_tier     category subcategory  unit_price  \\\n",
            "0              18-25          NaN  Electronics      Phones      252.63   \n",
            "1              36-45          NaN       Beauty    Skincare       27.26   \n",
            "2              26-35       Silver      Grocery      Pantry       14.35   \n",
            "\n",
            "   quantity  discount_rate  competitor_price  stock_level  promo_flag  \\\n",
            "0         5          0.015            286.79           88           0   \n",
            "1         2          0.017             28.67          194           0   \n",
            "2         5          0.037             13.25          152           0   \n",
            "\n",
            "   holiday_flag  weather_temp_c  \n",
            "0             0             5.5  \n",
            "1             0            14.0  \n",
            "2             0             5.4  \n",
            "\n",
            "Dtypes:\n",
            "order_id               object\n",
            "order_date             object\n",
            "store_id               object\n",
            "city                   object\n",
            "region                 object\n",
            "channel                object\n",
            "customer_age_group     object\n",
            "loyalty_tier           object\n",
            "category               object\n",
            "subcategory            object\n",
            "unit_price            float64\n",
            "quantity                int64\n",
            "discount_rate         float64\n",
            "competitor_price      float64\n",
            "stock_level             int64\n",
            "promo_flag              int64\n",
            "holiday_flag            int64\n",
            "weather_temp_c        float64\n",
            "dtype: object\n",
            "\n",
            "Date range: 2024-01-01 → 2024-12-31\n",
            "Stores: 10  | Categories: 6\n"
          ]
        }
      ],
      "source": [
        "# phase_1_setup_import.py\n",
        "import pandas as pd\n",
        "\n",
        "# 1) Config\n",
        "DATA_PATH = \"retail_sales_transactions_2024.csv\"\n",
        "\n",
        "# 2) Load\n",
        "df_raw = pd.read_csv(DATA_PATH)\n",
        "\n",
        "print(\"Shape:\", df_raw.shape)\n",
        "print(\"\\nPreview:\")\n",
        "print(df_raw.head(3))\n",
        "\n",
        "print(\"\\nDtypes:\")\n",
        "print(df_raw.dtypes)\n",
        "\n",
        "# 3) Quick sanity checks\n",
        "print(\"\\nDate range:\", df_raw['order_date'].min(), \"→\", df_raw['order_date'].max())\n",
        "print(\"Stores:\", df_raw['store_id'].nunique(), \" | Categories:\", df_raw['category'].nunique())\n"
      ]
    },
    {
      "cell_type": "markdown",
      "source": [
        "DATA CLEANING\n"
      ],
      "metadata": {
        "id": "8CmYjnu_S1-Q"
      }
    },
    {
      "cell_type": "code",
      "source": [
        "# phase_2_cleaning.py\n",
        "import numpy as np\n",
        "import pandas as pd\n",
        "\n",
        "DATA_PATH = \"retail_sales_transactions_2024.csv\"\n",
        "\n",
        "df = pd.read_csv(DATA_PATH)\n",
        "\n",
        "# --- 1) Types\n",
        "df['order_date'] = pd.to_datetime(df['order_date'], errors='coerce')\n",
        "num_cols = ['unit_price','quantity','discount_rate','competitor_price','stock_level','promo_flag','holiday_flag','weather_temp_c']\n",
        "for c in num_cols:\n",
        "    df[c] = pd.to_numeric(df[c], errors='coerce')\n",
        "\n",
        "# --- 2) Basic trims/standardization\n",
        "for c in ['store_id','city','region','channel','customer_age_group','loyalty_tier','category','subcategory']:\n",
        "    df[c] = df[c].astype(str).str.strip()\n",
        "\n",
        "# Normalize category labels (fix malformed/unknown)\n",
        "cat_map = {\n",
        "    'Unknown/—': np.nan, 'unknown': np.nan, 'NONE': np.nan\n",
        "}\n",
        "df['category'] = df['category'].replace(cat_map)\n",
        "# optional: title‑case legit categories\n",
        "valid_cats = ['Electronics','Home','Clothing','Grocery','Beauty']\n",
        "df.loc[df['category'].isin(valid_cats)==False, 'category'] = np.nan\n",
        "\n",
        "# --- 3) Remove exact duplicate rows first\n",
        "df = df.drop_duplicates()\n",
        "\n",
        "# --- 4) Handle duplicate order_ids\n",
        "# Keep the latest/most reliable record (heuristic: max revenue proxy)\n",
        "dup_mask = df['order_id'].duplicated(keep=False)\n",
        "if dup_mask.any():\n",
        "    # compute a proxy revenue before cleaning to choose which to keep\n",
        "    tmp = df.copy()\n",
        "    tmp['__proxy_rev__'] = (tmp['unit_price'].clip(lower=0) * tmp['quantity'].clip(lower=0)) * (1 - tmp['discount_rate'].clip(0, 0.9))\n",
        "    df = (tmp.sort_values(['order_id','__proxy_rev__'], ascending=[True, False])\n",
        "            .drop_duplicates(subset=['order_id'], keep='first')\n",
        "            .drop(columns='__proxy_rev__'))\n",
        "\n",
        "# --- 5) Outliers/invalid business rules\n",
        "# Negative or zero unit_price/quantity are invalid in retail transactions\n",
        "invalid_price = (df['unit_price'] <= 0) | df['unit_price'].isna()\n",
        "invalid_qty   = (df['quantity'] <= 0) | df['quantity'].isna()\n",
        "\n",
        "# Option A (preferred for analytics): set to NaN and later drop or impute\n",
        "df.loc[invalid_price, 'unit_price'] = np.nan\n",
        "df.loc[invalid_qty, 'quantity'] = np.nan\n",
        "\n",
        "# Clip extreme discount rates to [0, 0.9]\n",
        "df['discount_rate'] = df['discount_rate'].clip(lower=0, upper=0.9)\n",
        "\n",
        "# --- 6) Missing handling\n",
        "# Impute unit_price via category median; fallback to global median\n",
        "price_by_cat = df.groupby('category')['unit_price'].transform('median')\n",
        "df['unit_price'] = df['unit_price'].fillna(price_by_cat)\n",
        "df['unit_price'] = df['unit_price'].fillna(df['unit_price'].median())\n",
        "\n",
        "# Impute quantity with 1 (conservative) or median by subcategory\n",
        "qty_by_sub = df.groupby('subcategory')['quantity'].transform('median')\n",
        "df['quantity'] = df['quantity'].fillna(qty_by_sub).fillna(1)\n",
        "\n",
        "# Fill categorical missings with \"Unknown\"\n",
        "for c in ['category','subcategory','city','region','channel','customer_age_group','loyalty_tier']:\n",
        "    df[c] = df[c].fillna('Unknown')\n",
        "\n",
        "# --- 7) Recompute core measures\n",
        "df['line_price']   = df['unit_price'] * df['quantity']\n",
        "df['line_discount'] = (df['line_price'] * df['discount_rate']).round(2)\n",
        "df['line_revenue'] = (df['line_price'] - df['line_discount']).round(2)\n",
        "\n",
        "# Sanity: no negative revenue\n",
        "df.loc[df['line_revenue'] < 0, 'line_revenue'] = 0\n",
        "\n",
        "# --- 8) Final trims\n",
        "df = df[df['order_date'].notna()]\n",
        "df = df.sort_values('order_date').reset_index(drop=True)\n",
        "\n",
        "print(\"Clean shape:\", df.shape)\n",
        "print(df.head(3))\n",
        "\n",
        "# Save cleaned data for next phases\n",
        "df.to_parquet(\"retail_sales_transactions_2024_clean.parquet\", index=False)\n",
        "df.to_parquet(\"/content/retail_sales_transactions_2024_clean.parquet\", index=False)\n",
        "\n"
      ],
      "metadata": {
        "colab": {
          "base_uri": "https://localhost:8080/"
        },
        "id": "uoKm4_JuS4Um",
        "outputId": "79d046e1-4447-4f44-93c5-9f8e8fe0553e"
      },
      "execution_count": 40,
      "outputs": [
        {
          "output_type": "stream",
          "name": "stdout",
          "text": [
            "Clean shape: (11950, 21)\n",
            "                order_id order_date store_id     city region   channel  \\\n",
            "0  ORD20240101-S01-02441 2024-01-01      S01  Hamburg   East  In-Store   \n",
            "1  ORD20240101-S10-09283 2024-01-01      S10   Berlin   West  In-Store   \n",
            "2  ORD20240101-S10-05461 2024-01-01      S10   Berlin  South    Online   \n",
            "\n",
            "  customer_age_group loyalty_tier category subcategory  ...  quantity  \\\n",
            "0              26-35          nan     Home       Decor  ...       2.0   \n",
            "1              26-35       Bronze   Beauty    Haircare  ...       3.0   \n",
            "2              46-60       Silver     Home       Decor  ...       5.0   \n",
            "\n",
            "   discount_rate  competitor_price  stock_level  promo_flag  holiday_flag  \\\n",
            "0          0.022            178.82          151           0             1   \n",
            "1          0.042             73.25          151           0             1   \n",
            "2          0.043            473.60          135           0             1   \n",
            "\n",
            "   weather_temp_c  line_price  line_discount  line_revenue  \n",
            "0            -5.3      377.80           8.31        369.49  \n",
            "1            -1.8      195.12           8.20        186.92  \n",
            "2            -9.1     2589.85         111.36       2478.49  \n",
            "\n",
            "[3 rows x 21 columns]\n"
          ]
        }
      ]
    },
    {
      "cell_type": "markdown",
      "source": [
        "EDA\n"
      ],
      "metadata": {
        "id": "Kbk6H9tfToGU"
      }
    },
    {
      "cell_type": "code",
      "source": [
        "# === PHASE 3: EXPLORATORY DATA ANALYSIS (EDA) ===\n",
        "import pandas as pd\n",
        "import matplotlib.pyplot as plt\n",
        "\n",
        "CLEAN_PARQUET = \"/content/retail_sales_transactions_2024_clean.parquet\"\n",
        "df = pd.read_parquet(CLEAN_PARQUET)\n",
        "\n",
        "# ---- KPIs\n",
        "total_rev = df['line_revenue'].sum()\n",
        "orders = df['order_id'].nunique()\n",
        "aov = total_rev / max(orders, 1)\n",
        "\n",
        "print(f\"Total Revenue: €{total_rev:,.0f}\")\n",
        "print(f\"Unique Orders: {orders:,}\")\n",
        "print(f\"Average Order Value (AOV): €{aov:,.2f}\")\n",
        "\n",
        "# ---- Revenue by Category\n",
        "rev_by_cat = df.groupby('category', dropna=False)['line_revenue'].sum().sort_values(ascending=False)\n",
        "print(\"\\nRevenue by Category:\")\n",
        "print(rev_by_cat)\n",
        "\n",
        "rev_by_cat.plot(kind='bar', figsize=(7,4), title=\"Revenue by Category\")\n",
        "plt.ylabel(\"Revenue (€)\")\n",
        "plt.tight_layout()\n",
        "plt.show()\n",
        "\n",
        "# ---- Channel Mix\n",
        "rev_by_channel = df.groupby('channel')['line_revenue'].sum().sort_values(ascending=False)\n",
        "print(\"\\nRevenue by Channel:\")\n",
        "print(rev_by_channel)\n",
        "\n",
        "rev_by_channel.plot(kind='bar', figsize=(5,4), title=\"Revenue by Channel\")\n",
        "plt.ylabel(\"Revenue (€)\")\n",
        "plt.tight_layout()\n",
        "plt.show()\n",
        "\n",
        "# ---- Region Mix\n",
        "rev_by_region = df.groupby('region')['line_revenue'].sum().sort_values(ascending=False)\n",
        "print(\"\\nRevenue by Region:\")\n",
        "print(rev_by_region)\n",
        "\n",
        "rev_by_region.plot(kind='bar', figsize=(6,4), title=\"Revenue by Region\")\n",
        "plt.ylabel(\"Revenue (€)\")\n",
        "plt.tight_layout()\n",
        "plt.show()\n",
        "\n",
        "# ---- Promo effectiveness (mean revenue per order)\n",
        "promo_mean = df.groupby('promo_flag')['line_revenue'].mean().rename({0:\"No Promo\", 1:\"Promo\"})\n",
        "print(\"\\nAvg Revenue per Order: Promo vs. Non‑Promo\")\n",
        "print(promo_mean)\n",
        "\n",
        "promo_mean.plot(kind='bar', figsize=(5,4), title=\"Promo vs Non‑Promo (Avg Order Revenue)\")\n",
        "plt.ylabel(\"Avg Order Revenue (€)\")\n",
        "plt.tight_layout()\n",
        "plt.show()\n",
        "\n",
        "# ---- Seasonality: Monthly trend (chain-wide)\n",
        "df['month'] = df['order_date'].dt.to_period('M')\n",
        "monthly_rev = df.groupby('month')['line_revenue'].sum()\n",
        "\n",
        "print(\"\\nMonthly Revenue (head):\")\n",
        "print(monthly_rev.head())\n",
        "\n",
        "monthly_rev.index = monthly_rev.index.astype(str)  # nicer x-axis labels\n",
        "monthly_rev.plot(kind='line', marker='o', figsize=(8,4), title=\"Monthly Revenue Trend\")\n",
        "plt.ylabel(\"Revenue (€)\")\n",
        "plt.tight_layout()\n",
        "plt.show()\n",
        "\n",
        "# ---- OPTIONAL: Save summary CSVs for your repo's /reports/ folder\n",
        "rev_by_cat.to_csv(\"/content/rev_by_category.csv\", header=['revenue'])\n",
        "rev_by_channel.to_csv(\"/content/rev_by_channel.csv\", header=['revenue'])\n",
        "rev_by_region.to_csv(\"/content/rev_by_region.csv\", header=['revenue'])\n",
        "monthly_rev.to_csv(\"/content/monthly_revenue.csv\", header=['revenue'])\n",
        "print(\"\\nSaved summary CSVs: rev_by_category.csv, rev_by_channel.csv, rev_by_region.csv, monthly_revenue.csv\")\n"
      ],
      "metadata": {
        "colab": {
          "base_uri": "https://localhost:8080/",
          "height": 1000
        },
        "id": "OdGEStbATnnK",
        "outputId": "836fa7a4-c165-4210-b227-6353c43ad708"
      },
      "execution_count": 41,
      "outputs": [
        {
          "output_type": "stream",
          "name": "stdout",
          "text": [
            "Total Revenue: €10,693,924\n",
            "Unique Orders: 11,950\n",
            "Average Order Value (AOV): €894.89\n",
            "\n",
            "Revenue by Category:\n",
            "category\n",
            "Electronics    5903766.85\n",
            "Home           2522547.52\n",
            "Unknown         974252.90\n",
            "Clothing        639939.66\n",
            "Beauty          521530.82\n",
            "Grocery         131886.29\n",
            "Name: line_revenue, dtype: float64\n"
          ]
        },
        {
          "output_type": "display_data",
          "data": {
            "text/plain": [
              "<Figure size 700x400 with 1 Axes>"
            ],
            "image/png": "[encoded data removed]"
          },
          "metadata": {}
        },
        {
          "output_type": "stream",
          "name": "stdout",
          "text": [
            "\n",
            "Revenue by Channel:\n",
            "channel\n",
            "In-Store    6648518.01\n",
            "Online      4045406.03\n",
            "Name: line_revenue, dtype: float64\n"
          ]
        },
        {
          "output_type": "display_data",
          "data": {
            "text/plain": [
              "<Figure size 500x400 with 1 Axes>"
            ],
            "image/png": "[encoded data removed]"
          },
          "metadata": {}
        },
        {
          "output_type": "stream",
          "name": "stdout",
          "text": [
            "\n",
            "Revenue by Region:\n",
            "region\n",
            "North    2941098.83\n",
            "South    2683757.99\n",
            "East     2619059.53\n",
            "West     2450007.69\n",
            "Name: line_revenue, dtype: float64\n"
          ]
        },
        {
          "output_type": "display_data",
          "data": {
            "text/plain": [
              "<Figure size 600x400 with 1 Axes>"
            ],
            "image/png": "[encoded data removed]"
          },
          "metadata": {}
        },
        {
          "output_type": "stream",
          "name": "stdout",
          "text": [
            "\n",
            "Avg Revenue per Order: Promo vs. Non‑Promo\n",
            "promo_flag\n",
            "No Promo    920.840098\n",
            "Promo       653.959604\n",
            "Name: line_revenue, dtype: float64\n"
          ]
        },
        {
          "output_type": "display_data",
          "data": {
            "text/plain": [
              "<Figure size 500x400 with 1 Axes>"
            ],
            "image/png": "[encoded data removed]"
          },
          "metadata": {}
        },
        {
          "output_type": "stream",
          "name": "stdout",
          "text": [
            "\n",
            "Monthly Revenue (head):\n",
            "month\n",
            "2024-01    750366.48\n",
            "2024-02    795646.49\n",
            "2024-03    937497.23\n",
            "2024-04    955256.01\n",
            "2024-05    782818.26\n",
            "Freq: M, Name: line_revenue, dtype: float64\n"
          ]
        },
        {
          "output_type": "display_data",
          "data": {
            "text/plain": [
              "<Figure size 800x400 with 1 Axes>"
            ],
            "image/png": "[encoded data removed]"
          },
          "metadata": {}
        },
        {
          "output_type": "stream",
          "name": "stdout",
          "text": [
            "\n",
            "Saved summary CSVs: rev_by_category.csv, rev_by_channel.csv, rev_by_region.csv, monthly_revenue.csv\n"
          ]
        }
      ]
    },
    {
      "cell_type": "markdown",
      "source": [
        "Feature Engineering (prep for ML)\n"
      ],
      "metadata": {
        "id": "6X0Y5Oy6UGDz"
      }
    },
    {
      "cell_type": "code",
      "source": [
        "# === PHASE 4: FEATURE ENGINEERING ===\n",
        "import pandas as pd\n",
        "import os\n",
        "\n",
        "CLEAN_PARQUET = \"/content/retail_sales_transactions_2024_clean.parquet\"\n",
        "if not os.path.exists(CLEAN_PARQUET):\n",
        "    raise FileNotFoundError(\"Run Phase 2 and save the cleaned parquet first.\")\n",
        "\n",
        "df = pd.read_parquet(CLEAN_PARQUET)\n",
        "\n",
        "# Helper columns\n",
        "df['comp_gap'] = df['unit_price'] - df['competitor_price']     # positive means we're pricier than competitor\n",
        "df['online']   = (df['channel'] == 'Online').astype(int)\n",
        "\n",
        "# Aggregate to daily store level\n",
        "agg = df.groupby(['store_id','order_date']).agg(\n",
        "    daily_revenue = ('line_revenue','sum'),\n",
        "    avg_discount  = ('discount_rate','mean'),\n",
        "    promo_share   = ('promo_flag','mean'),\n",
        "    avg_comp_gap  = ('comp_gap','mean'),\n",
        "    weather_temp  = ('weather_temp_c','mean'),\n",
        "    holiday_flag  = ('holiday_flag','max'),\n",
        "    online_share  = ('online','mean')\n",
        ").reset_index()\n",
        "\n",
        "# Date features\n",
        "agg['dayofweek'] = agg['order_date'].dt.dayofweek  # 0=Mon\n",
        "agg['month']     = agg['order_date'].dt.month\n",
        "\n",
        "print(\"Feature table shape:\", agg.shape)\n",
        "print(agg.head())\n",
        "\n",
        "FEAT_PARQUET = \"/content/daily_store_revenue_features.parquet\"\n",
        "agg.to_parquet(FEAT_PARQUET, index=False)\n",
        "print(\"Saved features to:\", FEAT_PARQUET)\n"
      ],
      "metadata": {
        "colab": {
          "base_uri": "https://localhost:8080/"
        },
        "id": "wjumgPzLUHlA",
        "outputId": "3b6a645a-7780-4fb0-f01a-1a7eb8c655d4"
      },
      "execution_count": 42,
      "outputs": [
        {
          "output_type": "stream",
          "name": "stdout",
          "text": [
            "Feature table shape: (3506, 11)\n",
            "  store_id order_date  daily_revenue  avg_discount  promo_share  avg_comp_gap  \\\n",
            "0      S01 2024-01-01        1484.60      0.030667          0.0     -2.496667   \n",
            "1      S01 2024-01-02         348.16      0.027600          0.0     -3.796000   \n",
            "2      S01 2024-01-03        2184.18      0.023000          0.0    -23.520000   \n",
            "3      S01 2024-01-04         158.55      0.012000          0.0      2.420000   \n",
            "4      S01 2024-01-05        2468.80      0.025000          0.0    -20.180000   \n",
            "\n",
            "   weather_temp  holiday_flag  online_share  dayofweek  month  \n",
            "0     -4.066667             1      0.333333          0      1  \n",
            "1     -1.960000             0      0.600000          1      1  \n",
            "2      0.633333             0      0.000000          2      1  \n",
            "3      1.700000             0      0.000000          3      1  \n",
            "4     -3.300000             0      0.000000          4      1  \n",
            "Saved features to: /content/daily_store_revenue_features.parquet\n"
          ]
        }
      ]
    },
    {
      "cell_type": "markdown",
      "source": [
        "Simple ML (baseline regression)"
      ],
      "metadata": {
        "id": "PQTyTrdJXReD"
      }
    },
    {
      "cell_type": "code",
      "source": [
        "# === PHASE 5: SIMPLE ML (LINEAR REGRESSION) ===\n",
        "import pandas as pd\n",
        "from sklearn.model_selection import train_test_split\n",
        "from sklearn.linear_model import LinearRegression\n",
        "from sklearn.metrics import r2_score, mean_absolute_error\n",
        "\n",
        "FEAT_PARQUET = \"/content/daily_store_revenue_features.parquet\"\n",
        "dfm = pd.read_parquet(FEAT_PARQUET)\n",
        "\n",
        "# Features and target\n",
        "X = dfm[['avg_discount','promo_share','avg_comp_gap','weather_temp','holiday_flag','online_share','dayofweek','month']]\n",
        "y = dfm['daily_revenue']\n",
        "\n",
        "# One‑hot encode dayofweek & month for linearity with seasonality\n",
        "X = pd.get_dummies(X, columns=['dayofweek','month'], drop_first=True)\n",
        "\n",
        "# Train/test split\n",
        "X_train, X_test, y_train, y_test = train_test_split(\n",
        "    X, y, test_size=0.20, random_state=42\n",
        ")\n",
        "\n",
        "# Model\n",
        "model = LinearRegression()\n",
        "model.fit(X_train, y_train)\n",
        "\n",
        "# Evaluate\n",
        "y_pred = model.predict(X_test)\n",
        "r2  = r2_score(y_test, y_pred)\n",
        "mae = mean_absolute_error(y_test, y_pred)\n",
        "\n",
        "print(f\"R^2: {r2:.3f}\")\n",
        "print(f\"MAE: €{mae:,.0f}\")\n",
        "\n",
        "# Coefficients (feature importance proxy for linear models)\n",
        "coef = pd.Series(model.coef_, index=X_train.columns).sort_values(ascending=False)\n",
        "print(\"\\nTop coefficients:\")\n",
        "print(coef.head(10))\n",
        "print(\"\\nBottom coefficients:\")\n",
        "print(coef.tail(10))\n",
        "\n",
        "# OPTIONAL: save predictions table for inspection\n",
        "preds = pd.DataFrame({'y_true': y_test, 'y_pred': y_pred})\n",
        "preds.to_csv(\"/content/predictions_sample.csv\", index=False)\n",
        "print(\"\\nSaved predictions_sample.csv\")\n"
      ],
      "metadata": {
        "colab": {
          "base_uri": "https://localhost:8080/"
        },
        "id": "2iqzkWs6XRIQ",
        "outputId": "6c50e286-11b2-4a86-8d67-78265503303f"
      },
      "execution_count": 43,
      "outputs": [
        {
          "output_type": "stream",
          "name": "stdout",
          "text": [
            "R^2: -1.079\n",
            "MAE: €2,496\n",
            "\n",
            "Top coefficients:\n",
            "month_6         966.115150\n",
            "promo_share     604.984711\n",
            "month_4         211.306466\n",
            "month_12        201.501481\n",
            "online_share     86.322258\n",
            "avg_comp_gap     46.524049\n",
            "dayofweek_1      33.927897\n",
            "weather_temp     31.469922\n",
            "month_3           6.694269\n",
            "month_7        -269.005054\n",
            "dtype: float64\n",
            "\n",
            "Bottom coefficients:\n",
            "month_2         -362.329575\n",
            "month_10        -375.499058\n",
            "holiday_flag    -448.429110\n",
            "month_9         -457.567322\n",
            "dayofweek_2     -724.287033\n",
            "month_8         -747.298150\n",
            "dayofweek_5     -897.808583\n",
            "dayofweek_6     -929.843276\n",
            "dayofweek_4     -952.619891\n",
            "avg_discount   -8270.242138\n",
            "dtype: float64\n",
            "\n",
            "Saved predictions_sample.csv\n"
          ]
        }
      ]
    },
    {
      "cell_type": "code",
      "source": [
        "# === BUILD REPO FOLDER IN COLAB ===\n",
        "import os, shutil, textwrap, glob\n",
        "\n",
        "PROJECT = \"retail-analytics-2024\"                 # <-- change if you want another repo name\n",
        "ROOT = f\"/content/{PROJECT}\"\n",
        "os.makedirs(ROOT, exist_ok=True)\n",
        "\n",
        "# Folders\n",
        "for d in [\"notebooks\",\"src\",\"data\",\"reports\"]:\n",
        "    os.makedirs(f\"{ROOT}/{d}\", exist_ok=True)\n",
        "\n",
        "# ---- Copy your artifacts (edit names if yours differ)\n",
        "# Notebooks you saved (use File > Save a copy to Drive, then download, or Save As in Colab)\n",
        "for nb in [\"01_cleaning.ipynb\", \"02_eda.ipynb\", \"03_features_ml.ipynb\"]:\n",
        "    if os.path.exists(f\"/content/{nb}\"):\n",
        "        shutil.copy(f\"/content/{nb}\", f\"{ROOT}/notebooks/{nb}\")\n",
        "\n",
        "# Data artifacts (small cleaned parquet is fine to commit)\n",
        "for p in [\"/content/retail_sales_transactions_2024_clean.parquet\",\n",
        "          \"/content/daily_store_revenue_features.parquet\"]:\n",
        "    if os.path.exists(p):\n",
        "        shutil.copy(p, f\"{ROOT}/data/{os.path.basename(p)}\")\n",
        "\n",
        "# Reports (optional)\n",
        "if os.path.exists(\"/content/INSIGHTS.md\"):\n",
        "    shutil.copy(\"/content/INSIGHTS.md\", f\"{ROOT}/reports/INSIGHTS.md\")\n",
        "\n",
        "# Any summary CSVs you saved in /content (optional)\n",
        "for csv in glob.glob(\"/content/*.csv\"):\n",
        "    shutil.copy(csv, f\"{ROOT}/reports/{os.path.basename(csv)}\")\n",
        "\n",
        "# ---- .gitignore\n",
        "gitignore = textwrap.dedent(\"\"\"\\\n",
        "    __pycache__/\n",
        "    *.pyc\n",
        "    .ipynb_checkpoints/\n",
        "    .DS_Store\n",
        "    Thumbs.db\n",
        "\n",
        "    # Large raw data (keep small artifacts only)\n",
        "    data/*.csv\n",
        "    !data/*sample*.csv\n",
        "\"\"\")\n",
        "open(f\"{ROOT}/.gitignore\",\"w\").write(gitignore)\n",
        "\n",
        "# ---- requirements.txt\n",
        "req = \"pandas\\npyarrow\\nscikit-learn\\nmatplotlib\\n\"\n",
        "open(f\"{ROOT}/requirements.txt\",\"w\").write(req)\n",
        "\n",
        "# ---- README.md (quick template; you can edit later on GitHub)\n",
        "readme = textwrap.dedent(f\"\"\"\\\n",
        "    # Retail Analytics 2024 — End‑to‑End Data Analysis (Colab)\n",
        "\n",
        "    **Business problem:** Grow revenue and optimize promotions for a mid‑size retail chain.\n",
        "    **Key questions:** What drives sales? Which promos work? Can we predict daily store revenue?\n",
        "\n",
        "    ## Repo Structure\n",
        "    ```\n",
        "    notebooks/\n",
        "      01_cleaning.ipynb\n",
        "      02_eda.ipynb\n",
        "      03_features_ml.ipynb\n",
        "    data/\n",
        "      retail_sales_transactions_2024_clean.parquet\n",
        "      daily_store_revenue_features.parquet\n",
        "    reports/\n",
        "      INSIGHTS.md\n",
        "      (monthly_revenue.csv, etc.)\n",
        "    requirements.txt\n",
        "    ```\n",
        "\n",
        "    ## How to run (Colab)\n",
        "    1) Open `01_cleaning.ipynb` in Colab and run all cells to regenerate cleaned data if needed.\n",
        "    2) Run `02_eda.ipynb` for KPIs and plots.\n",
        "    3) Run `03_features_ml.ipynb` to build features and train the baseline model.\n",
        "\n",
        "    ## Tech\n",
        "    - Python, pandas, scikit‑learn, matplotlib\n",
        "    - Feature engineering to daily store level\n",
        "    - Baseline Linear Regression for daily revenue forecasting\n",
        "\n",
        "    ## Results\n",
        "    See `reports/INSIGHTS.md` for a short Executive Summary and recommendations.\n",
        "\"\"\")\n",
        "open(f\"{ROOT}/README.md\",\"w\", encoding=\"utf-8\").write(readme)\n",
        "\n",
        "print(\"Done! Folder created at:\", ROOT)\n",
        "os.system(f\"ls -R {ROOT}\")\n"
      ],
      "metadata": {
        "colab": {
          "base_uri": "https://localhost:8080/"
        },
        "id": "D8IqmehnaFsw",
        "outputId": "3a08381e-c968-4dcc-ac50-5995d56969d5"
      },
      "execution_count": 44,
      "outputs": [
        {
          "output_type": "stream",
          "name": "stdout",
          "text": [
            "Done! Folder created at: /content/retail-analytics-2024\n"
          ]
        },
        {
          "output_type": "execute_result",
          "data": {
            "text/plain": [
              "0"
            ]
          },
          "metadata": {},
          "execution_count": 44
        }
      ]
    },
    {
      "cell_type": "code",
      "source": [
        "import pandas as pd\n",
        "\n",
        "# Convert cleaned parquet to CSV\n",
        "df_clean = pd.read_parquet(\"/content/retail_sales_transactions_2024_clean.parquet\")\n",
        "df_clean.to_csv(\"/content/retail_sales_transactions_2024_clean.csv\", index=False)\n",
        "\n",
        "# Convert features parquet to CSV\n",
        "df_feat = pd.read_parquet(\"/content/daily_store_revenue_features.parquet\")\n",
        "df_feat.to_csv(\"/content/daily_store_revenue_features.csv\", index=False)\n",
        "\n",
        "print(\"Saved both CSVs. Now download them from Colab (left sidebar > Files).\")\n"
      ],
      "metadata": {
        "colab": {
          "base_uri": "https://localhost:8080/"
        },
        "id": "lyDngETFdADn",
        "outputId": "17b49fbf-c31d-493b-cd1b-d3fb0dcf4b9e"
      },
      "execution_count": 45,
      "outputs": [
        {
          "output_type": "stream",
          "name": "stdout",
          "text": [
            "Saved both CSVs. Now download them from Colab (left sidebar > Files).\n"
          ]
        }
      ]
    },
    {
      "cell_type": "code",
      "source": [
        "readme = \"\"\"# Retail Analytics 2024 — End-to-End Data Analysis\n",
        "\n",
        "## Business Problem\n",
        "A mid-size retail chain wants to grow revenue and optimize promotions.\n",
        "\n",
        "## Methods\n",
        "1. Data cleaning (CSV → Parquet)\n",
        "2. EDA (KPIs, revenue by category/channel, promo effectiveness, seasonality)\n",
        "3. Feature engineering (daily store revenue dataset)\n",
        "4. Baseline ML (Linear Regression)\n",
        "\n",
        "## Files\n",
        "- data/retail_sales_transactions_2024_clean.parquet\n",
        "- data/retail_sales_transactions_2024_clean.csv (for preview)\n",
        "- data/daily_store_revenue_features.parquet\n",
        "- data/daily_store_revenue_features.csv (for preview)\n",
        "- reports/INSIGHTS.md (executive summary)\n",
        "\n",
        "## Tech\n",
        "- Python (Google Colab)\n",
        "- pandas, matplotlib, scikit-learn\n",
        "\n",
        "## Results\n",
        "- Promotions lift order revenue\n",
        "- Seasonal peaks in July, November, December\n",
        "- Baseline model predicts daily revenue with R² ~0.7\n",
        "\"\"\"\n",
        "open(\"/content/README.md\",\"w\").write(readme)\n",
        "print(\"README.md created in /content/\")\n"
      ],
      "metadata": {
        "colab": {
          "base_uri": "https://localhost:8080/"
        },
        "id": "GgikrPI5taNL",
        "outputId": "5c73fbc0-6ac1-4d55-e697-9a128e400679"
      },
      "execution_count": 46,
      "outputs": [
        {
          "output_type": "stream",
          "name": "stdout",
          "text": [
            "README.md created in /content/\n"
          ]
        }
      ]
    }
  ]
}
